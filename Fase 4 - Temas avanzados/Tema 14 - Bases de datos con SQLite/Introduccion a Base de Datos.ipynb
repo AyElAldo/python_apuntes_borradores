{
 "cells": [
  {
   "cell_type": "markdown",
   "id": "eb0e7f29",
   "metadata": {},
   "source": [
    "## Bases de Datos\n",
    "Una **base de datos** es un conjunto de datos que pertenecen a un mismo contexto, por lo que puedes ser almacenados de forma sistemática con el fin de manejar estos datos posteriormente.\n",
    "\n",
    "Estos datos son gesionados utilizando **SGBD** (*Sistemas gestores de bases de datos*), los cuales tienen una sintaxis personalizada como un lenguaje de programación diferente para hacer el manejo y gestión de datos."
   ]
  },
  {
   "cell_type": "markdown",
   "id": "f701353d",
   "metadata": {},
   "source": [
    "### Modelos de Bases de Datos\n",
    "Existen muchos tipos de bases de datos como las siguientes\n",
    "- **Jerárquicas**\n",
    "- **De red**\n",
    "- **Transaccionales**\n",
    "- **Relacionales**\n",
    "- **Documentales**\n",
    "- **Orientadas a objetos**\n",
    "- **Deductivas**"
   ]
  },
  {
   "cell_type": "markdown",
   "id": "12192d2d",
   "metadata": {},
   "source": [
    "#### Bases de Datos Relacionales\n",
    "Este tipos de **base de datos** se basa en la idea de crear **relaciones** entre conjuntos de datos mediante tablas compuestas por registros.\n",
    "\n",
    "Existen varios **SGBD** que son compatibles con **Python** como los son las siguientes\n",
    "\n",
    "- **SQL Server** (*Microsoft*) : Solo para Windows\n",
    "- **Oracle** (*Oracle*) : Mas completos, multiplataforma\n",
    "- **MySQL** (*Dual: Pública general / Oracle*) : Mas popular en el mundo, entornos desarrollo web\n",
    "- **PostgreSQL** (*Comunidad*) : \n",
    "- **SQLite** (*Richard Hipp*) : Hasta 2 tb de tamaño, sencillo para configurar\n"
   ]
  },
  {
   "cell_type": "markdown",
   "id": "da7ad9e8",
   "metadata": {},
   "source": [
    "#### ¿Qué es SQL?\n",
    "Es un lenguaje (*Structured Query Language*) usado por muchos **SGBD** relacionales que es necesario aprender para utilizar este tipo de bases de datos."
   ]
  },
  {
   "cell_type": "markdown",
   "id": "1046d605",
   "metadata": {},
   "source": [
    "## SQLite\n",
    "- **Clave primaria:** Campo de una tabla que actúa como identificado único de los registros. No se puede repetir con otro registro.\n",
    "- **Clave unica: **"
   ]
  },
  {
   "cell_type": "code",
   "execution_count": null,
   "id": "4748eb2d",
   "metadata": {},
   "outputs": [],
   "source": []
  }
 ],
 "metadata": {
  "kernelspec": {
   "display_name": "Python 3 (ipykernel)",
   "language": "python",
   "name": "python3"
  },
  "language_info": {
   "codemirror_mode": {
    "name": "ipython",
    "version": 3
   },
   "file_extension": ".py",
   "mimetype": "text/x-python",
   "name": "python",
   "nbconvert_exporter": "python",
   "pygments_lexer": "ipython3",
   "version": "3.10.4"
  }
 },
 "nbformat": 4,
 "nbformat_minor": 5
}
