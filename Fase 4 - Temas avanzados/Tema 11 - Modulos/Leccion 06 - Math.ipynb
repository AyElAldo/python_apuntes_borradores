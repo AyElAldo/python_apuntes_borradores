{
 "cells": [
  {
   "cell_type": "markdown",
   "metadata": {
    "collapsed": true
   },
   "source": [
    "## Math\n",
    "#### Ya incluidos\n",
    "- **round(*numero*)** : DEVULEVE NUMERO REDONDEADO\n",
    "- **abs(*numero*)** : DEVUELVE VALOR ABSOLUTO\n",
    "- **sum(*lista*)** : DEVUELVE ELEMENTOS DE UNA L\n",
    "#### Necesario importar Math\n",
    "- **.floor(*numero*)** : DEVUELVE REDONDEA A LA BAJA\n",
    "- **.ceil(*numero*)** : DEVUELVE REDONDEA A LA ALTA\n",
    "\n",
    "### Constante\n",
    "- **.pi** : NUMERO PI"
   ]
  },
  {
   "cell_type": "code",
   "execution_count": 1,
   "metadata": {},
   "outputs": [],
   "source": [
    "import math"
   ]
  },
  {
   "cell_type": "code",
   "execution_count": 2,
   "metadata": {},
   "outputs": [
    {
     "data": {
      "text/plain": [
       "3.141592653589793"
      ]
     },
     "execution_count": 2,
     "metadata": {},
     "output_type": "execute_result"
    }
   ],
   "source": [
    "math.pi"
   ]
  },
  {
   "cell_type": "code",
   "execution_count": null,
   "metadata": {},
   "outputs": [],
   "source": []
  }
 ],
 "metadata": {
  "kernelspec": {
   "display_name": "Python 3 (ipykernel)",
   "language": "python",
   "name": "python3"
  },
  "language_info": {
   "codemirror_mode": {
    "name": "ipython",
    "version": 3
   },
   "file_extension": ".py",
   "mimetype": "text/x-python",
   "name": "python",
   "nbconvert_exporter": "python",
   "pygments_lexer": "ipython3",
   "version": "3.10.4"
  }
 },
 "nbformat": 4,
 "nbformat_minor": 1
}
