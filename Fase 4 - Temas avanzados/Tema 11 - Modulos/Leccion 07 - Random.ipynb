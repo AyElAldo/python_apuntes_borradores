{
 "cells": [
  {
   "cell_type": "markdown",
   "metadata": {
    "collapsed": true
   },
   "source": [
    "## Random\n",
    "- **.random()** : NUMERO FLOAT ALEATORIO ENTRE \\[ 0 , 1 )\n",
    "- **.uniform(*inf*,*sup*)** : NUMERO FLOAT ENTRE \\[ inf , sup )\n",
    "- **.randrange(*inf*,*sup*)** : NUMERO INT ENTRE \\[ inf , sup )\n",
    "- **.randrange(*inf*,*sup*,*multiplo*)** : NUMERO INT ENTRE \\[ inf , sup ) SOLO MULTIPLOS \n",
    "- **.choice(*lista_o_cadena*)** : DEVUELVE UN ELEMENTO O CARACTER DE UNA LISTA O CADENA\n",
    "- **.shuffle(*lista*)** : MODIFICA UNA L"
   ]
  },
  {
   "cell_type": "code",
   "execution_count": null,
   "metadata": {},
   "outputs": [],
   "source": []
  }
 ],
 "metadata": {
  "kernelspec": {
   "display_name": "Python 3 (ipykernel)",
   "language": "python",
   "name": "python3"
  },
  "language_info": {
   "codemirror_mode": {
    "name": "ipython",
    "version": 3
   },
   "file_extension": ".py",
   "mimetype": "text/x-python",
   "name": "python",
   "nbconvert_exporter": "python",
   "pygments_lexer": "ipython3",
   "version": "3.10.4"
  }
 },
 "nbformat": 4,
 "nbformat_minor": 1
}
