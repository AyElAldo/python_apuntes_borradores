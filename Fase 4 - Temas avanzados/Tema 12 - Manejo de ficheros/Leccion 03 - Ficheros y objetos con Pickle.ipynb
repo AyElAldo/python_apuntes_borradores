{
 "cells": [
  {
   "cell_type": "markdown",
   "metadata": {
    "collapsed": true
   },
   "source": [
    "## Módulo Pickle\n",
    "Los archivos **pickle** permiten manekar archivos binarios. Las extensiones que trabaja este módulo son ***.pckl***  \n",
    "Estos archivos se abren de la misma forma que lo archivos planos pero al modo de apertura deñ archivo se le agrega una letra ***'b'*** que hacer referencia a ***binary***.\n",
    "``` Python\n",
    "archivo = open('lista.pckl','rb')\n",
    "```\n",
    "*En este caso **'rb'** hace referencia a la lectura de archivos binarios*.\n",
    "\n",
    "\n",
    "Para trabajar con este tipo de archivos se importa el módulo ***pickle***.\n",
    "``` Python\n",
    "import pikle\n",
    "```  \n",
    "\n",
    "Los métodos mas comunes son los siguientes:\n",
    "- **.dump(*elemento_a_insertar*, *archivo*)** - PONE EL ELEMENTO DENTRO DEL ARCHIVO EN FORMATO ENTENDIBLE PARA **PCKL**\n",
    "- **.load(*archivo*)** - DEVUELVE EL ELEMENTO DEL FICHERO TRADUCIDO "
   ]
  },
  {
   "cell_type": "code",
   "execution_count": 3,
   "metadata": {},
   "outputs": [],
   "source": [
    "import pickle\n",
    "lista = [1,2,3,4,5]\n",
    "archivo = open('lista.pckl','wb')\n",
    "pickle.dump(lista,archivo)\n",
    "archivo.close()"
   ]
  },
  {
   "cell_type": "code",
   "execution_count": 4,
   "metadata": {},
   "outputs": [],
   "source": [
    "archivo = open('lista.pckl','rb')\n",
    "lista = pickle.load(archivo)\n",
    "archivo.close()"
   ]
  },
  {
   "cell_type": "code",
   "execution_count": 5,
   "metadata": {},
   "outputs": [
    {
     "data": {
      "text/plain": [
       "[1, 2, 3, 4, 5]"
      ]
     },
     "execution_count": 5,
     "metadata": {},
     "output_type": "execute_result"
    }
   ],
   "source": [
    "lista"
   ]
  },
  {
   "cell_type": "code",
   "execution_count": null,
   "metadata": {},
   "outputs": [],
   "source": []
  }
 ],
 "metadata": {
  "kernelspec": {
   "display_name": "Python 3 (ipykernel)",
   "language": "python",
   "name": "python3"
  },
  "language_info": {
   "codemirror_mode": {
    "name": "ipython",
    "version": 3
   },
   "file_extension": ".py",
   "mimetype": "text/x-python",
   "name": "python",
   "nbconvert_exporter": "python",
   "pygments_lexer": "ipython3",
   "version": "3.10.4"
  }
 },
 "nbformat": 4,
 "nbformat_minor": 1
}
