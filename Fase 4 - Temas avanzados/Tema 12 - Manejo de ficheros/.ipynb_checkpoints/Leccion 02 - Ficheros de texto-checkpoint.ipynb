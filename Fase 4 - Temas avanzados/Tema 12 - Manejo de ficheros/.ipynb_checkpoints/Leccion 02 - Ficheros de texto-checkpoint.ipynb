{
 "cells": [
  {
   "cell_type": "markdown",
   "metadata": {},
   "source": [
    "## Manejo de archivos\n",
    "Para trabajar con **archivos** se necesita importar el módulo ***io***\n",
    "\n",
    "```python\n",
    "import io\n",
    "```\n",
    "Existen varios modos para abrir un archivo, los mas comunes son los siguientes:  \n",
    "- **'w'** : ESCRITURA\n",
    "- **'r'** : SOLO LECTURA\n"
   ]
  },
  {
   "cell_type": "code",
   "execution_count": 2,
   "metadata": {},
   "outputs": [],
   "source": [
    "# En Jupyer no es necesario importar nada\n",
    "# from io import open\n",
    "texto = 'Una linea contexto\\nOtra linea con texto'\n",
    "archivo = open('archivo.txt','w')\n",
    "archivo.write(texto)\n",
    "archivo.close()"
   ]
  },
  {
   "cell_type": "code",
   "execution_count": 3,
   "metadata": {},
   "outputs": [],
   "source": [
    "del(archivo)"
   ]
  },
  {
   "cell_type": "code",
   "execution_count": 4,
   "metadata": {},
   "outputs": [
    {
     "data": {
      "text/plain": [
       "'Una linea contexto\\nOtra linea con texto'"
      ]
     },
     "execution_count": 4,
     "metadata": {},
     "output_type": "execute_result"
    }
   ],
   "source": [
    "texto"
   ]
  },
  {
   "cell_type": "code",
   "execution_count": 5,
   "metadata": {},
   "outputs": [
    {
     "name": "stdout",
     "output_type": "stream",
     "text": [
      "Lectura:  Una linea contexto\n",
      "Otra linea con texto\n"
     ]
    }
   ],
   "source": [
    "archivo = open('archivo.txt','r')\n",
    "lectura = archivo.read()\n",
    "print(lectura)"
   ]
  },
  {
   "cell_type": "code",
   "execution_count": null,
   "metadata": {},
   "outputs": [],
   "source": []
  }
 ],
 "metadata": {
  "kernelspec": {
   "display_name": "Python 3 (ipykernel)",
   "language": "python",
   "name": "python3"
  },
  "language_info": {
   "codemirror_mode": {
    "name": "ipython",
    "version": 3
   },
   "file_extension": ".py",
   "mimetype": "text/x-python",
   "name": "python",
   "nbconvert_exporter": "python",
   "pygments_lexer": "ipython3",
   "version": "3.10.4"
  }
 },
 "nbformat": 4,
 "nbformat_minor": 1
}
