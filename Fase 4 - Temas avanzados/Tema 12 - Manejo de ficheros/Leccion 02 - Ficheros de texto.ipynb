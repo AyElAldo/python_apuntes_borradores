{
 "cells": [
  {
   "cell_type": "markdown",
   "metadata": {},
   "source": [
    "## Manejo de archivos\n",
    "Para trabajar con **archivos** se necesita importar el módulo ***io***\n",
    "\n",
    "```python\n",
    "import io\n",
    "```\n",
    "Existen varios modos para abrir un archivo, los mas comunes son los siguientes:  \n",
    "- **'w'** : ESCRITURA\n",
    "- **'r'** : SOLO LECTURA\n",
    "- **'a'** : APPEND, ESCRITURA\n",
    "- **'r+'** : LECTURA Y ESCRITURA. SOBREESCRIBE\n",
    "\n",
    "\n",
    "Los métodos mas importantes son:\n",
    "- **.read()** : LEE TODO EL ARCHIVO\n",
    "- **.read(*numero*)** : LEE SOLO UN NUMERO DETERMINADO DE CARATERES\n",
    "- **.readline()** : LEE LA LINEA DONDE SE ENCUENTRA EL PUNTERO\n",
    "- **.write()** : ESCRIBE EN EL ARCHIVO DEPENDIENDO DE LA POSICION DEL PUNTERO\n",
    "- **.close()** : CERRAR EL ARCHIVO\n",
    "- **.seek(*numero*)** : POSICIONA EL PUNTERO DEL ARCHIVO A LA POSICION NÚMERO"
   ]
  },
  {
   "cell_type": "code",
   "execution_count": 7,
   "metadata": {},
   "outputs": [],
   "source": [
    "# En Jupyer no es necesario importar nada\n",
    "# from io import open\n",
    "texto = 'Una linea con texto\\nOtra linea con texto'\n",
    "archivo = open('archivo.txt','w')\n",
    "archivo.write(texto)\n",
    "archivo.close()"
   ]
  },
  {
   "cell_type": "code",
   "execution_count": 8,
   "metadata": {},
   "outputs": [],
   "source": [
    "del(archivo)"
   ]
  },
  {
   "cell_type": "code",
   "execution_count": 9,
   "metadata": {},
   "outputs": [
    {
     "data": {
      "text/plain": [
       "'Una linea con texto\\nOtra linea con texto'"
      ]
     },
     "execution_count": 9,
     "metadata": {},
     "output_type": "execute_result"
    }
   ],
   "source": [
    "texto"
   ]
  },
  {
   "cell_type": "code",
   "execution_count": 10,
   "metadata": {},
   "outputs": [
    {
     "name": "stdout",
     "output_type": "stream",
     "text": [
      "Una linea con texto\n",
      "Otra linea con texto\n"
     ]
    }
   ],
   "source": [
    "archivo = open('archivo.txt','r')\n",
    "lectura = archivo.read()\n",
    "print(lectura)"
   ]
  },
  {
   "cell_type": "code",
   "execution_count": 11,
   "metadata": {},
   "outputs": [
    {
     "data": {
      "text/plain": [
       "'Una linea con texto\\nOtra linea con texto'"
      ]
     },
     "execution_count": 11,
     "metadata": {},
     "output_type": "execute_result"
    }
   ],
   "source": [
    "lectura"
   ]
  },
  {
   "cell_type": "code",
   "execution_count": 13,
   "metadata": {},
   "outputs": [],
   "source": [
    "archivo = open('archivo.txt','r')\n",
    "lineas = archivo.readlines()\n",
    "archivo.close()"
   ]
  },
  {
   "cell_type": "code",
   "execution_count": 14,
   "metadata": {},
   "outputs": [
    {
     "data": {
      "text/plain": [
       "['Una linea con texto\\n', 'Otra linea con texto']"
      ]
     },
     "execution_count": 14,
     "metadata": {},
     "output_type": "execute_result"
    }
   ],
   "source": [
    "lineas"
   ]
  },
  {
   "cell_type": "code",
   "execution_count": 15,
   "metadata": {},
   "outputs": [],
   "source": [
    "archivo = open('archivo.txt','a')"
   ]
  },
  {
   "cell_type": "code",
   "execution_count": 16,
   "metadata": {},
   "outputs": [
    {
     "data": {
      "text/plain": [
       "13"
      ]
     },
     "execution_count": 16,
     "metadata": {},
     "output_type": "execute_result"
    }
   ],
   "source": [
    "archivo.write(\"Otraaaa linea\")"
   ]
  },
  {
   "cell_type": "code",
   "execution_count": 17,
   "metadata": {},
   "outputs": [
    {
     "data": {
      "text/plain": [
       "15"
      ]
     },
     "execution_count": 17,
     "metadata": {},
     "output_type": "execute_result"
    }
   ],
   "source": [
    "archivo.write(\"\\nungermennotevas\")"
   ]
  },
  {
   "cell_type": "code",
   "execution_count": 18,
   "metadata": {},
   "outputs": [],
   "source": [
    "archivo.close()"
   ]
  },
  {
   "cell_type": "code",
   "execution_count": 19,
   "metadata": {},
   "outputs": [
    {
     "data": {
      "text/plain": [
       "'con texto\\nOtra linea con textoOtraaaa lineaungermennotevas'"
      ]
     },
     "execution_count": 19,
     "metadata": {},
     "output_type": "execute_result"
    }
   ],
   "source": [
    "archivo = open('archivo.txt','r')\n",
    "archivo.seek(10)\n",
    "archivo.read()"
   ]
  },
  {
   "cell_type": "code",
   "execution_count": 20,
   "metadata": {},
   "outputs": [
    {
     "data": {
      "text/plain": [
       "'Una linea con texto\\nOtra linea con textoOtraaaa lineaungermennotevas'"
      ]
     },
     "execution_count": 20,
     "metadata": {},
     "output_type": "execute_result"
    }
   ],
   "source": [
    "archivo.seek(0)\n",
    "archivo.read()"
   ]
  },
  {
   "cell_type": "code",
   "execution_count": 21,
   "metadata": {},
   "outputs": [],
   "source": [
    "archivo.close()"
   ]
  },
  {
   "cell_type": "code",
   "execution_count": null,
   "metadata": {},
   "outputs": [],
   "source": []
  }
 ],
 "metadata": {
  "kernelspec": {
   "display_name": "Python 3 (ipykernel)",
   "language": "python",
   "name": "python3"
  },
  "language_info": {
   "codemirror_mode": {
    "name": "ipython",
    "version": 3
   },
   "file_extension": ".py",
   "mimetype": "text/x-python",
   "name": "python",
   "nbconvert_exporter": "python",
   "pygments_lexer": "ipython3",
   "version": "3.10.4"
  }
 },
 "nbformat": 4,
 "nbformat_minor": 1
}
