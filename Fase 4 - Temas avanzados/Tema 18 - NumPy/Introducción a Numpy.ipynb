{
 "cells": [
  {
   "cell_type": "markdown",
   "id": "2175f212",
   "metadata": {},
   "source": [
    "## Instalación de NumPy\n",
    "Para la instalación es necesario recurrir a nuestra terminal y escribir el comando \n",
    "```\n",
    "pip install numpy\n",
    "```\n",
    "***Nota: En Jupyter Notebook ya se encuentra instalado por defecto.***"
   ]
  },
  {
   "cell_type": "code",
   "execution_count": 2,
   "id": "2a307853",
   "metadata": {},
   "outputs": [
    {
     "name": "stdout",
     "output_type": "stream",
     "text": [
      "[1 2 3 4 5]\n"
     ]
    }
   ],
   "source": [
    "import numpy as np\n",
    "\n",
    "array = np.array([1,2,3,4,5])\n",
    "\n",
    "print(array)"
   ]
  },
  {
   "cell_type": "code",
   "execution_count": 3,
   "id": "7ebce1d2",
   "metadata": {},
   "outputs": [
    {
     "data": {
      "text/plain": [
       "numpy.ndarray"
      ]
     },
     "execution_count": 3,
     "metadata": {},
     "output_type": "execute_result"
    }
   ],
   "source": [
    "type(array)"
   ]
  },
  {
   "cell_type": "markdown",
   "id": "1f266deb",
   "metadata": {},
   "source": [
    "### Propiedades de los arrays"
   ]
  },
  {
   "cell_type": "code",
   "execution_count": 4,
   "id": "148195de",
   "metadata": {},
   "outputs": [
    {
     "data": {
      "text/plain": [
       "1"
      ]
     },
     "execution_count": 4,
     "metadata": {},
     "output_type": "execute_result"
    }
   ],
   "source": [
    "# Dimensión\n",
    "array.ndim"
   ]
  },
  {
   "cell_type": "code",
   "execution_count": 5,
   "id": "24d5fc20",
   "metadata": {},
   "outputs": [
    {
     "data": {
      "text/plain": [
       "(5,)"
      ]
     },
     "execution_count": 5,
     "metadata": {},
     "output_type": "execute_result"
    }
   ],
   "source": [
    "# Elementos del array, elementos de la tupla\n",
    "array.shape"
   ]
  },
  {
   "cell_type": "code",
   "execution_count": 8,
   "id": "41fdb86a",
   "metadata": {},
   "outputs": [
    {
     "name": "stdout",
     "output_type": "stream",
     "text": [
      "2\n",
      "(2, 5)\n"
     ]
    }
   ],
   "source": [
    "# Modificando el array\n",
    "array = np.array([[1,2,3,4,5],\n",
    "                 [6,7,8,9,10]])\n",
    "\n",
    "print(array.ndim)\n",
    "print(array.shape)\n"
   ]
  },
  {
   "cell_type": "markdown",
   "id": "0d3da0f9",
   "metadata": {},
   "source": [
    "### Consulta el tipo de un array"
   ]
  },
  {
   "cell_type": "code",
   "execution_count": 9,
   "id": "9e8e4c07",
   "metadata": {},
   "outputs": [
    {
     "name": "stdout",
     "output_type": "stream",
     "text": [
      "int32\n"
     ]
    }
   ],
   "source": [
    "# Tipo de variable que tiene un array\n",
    "array = np.array([[1,2,3,4,5],\n",
    "                 [6,7,8,9,10]])\n",
    "print(array.dtype)"
   ]
  },
  {
   "cell_type": "code",
   "execution_count": 11,
   "id": "940e54ec",
   "metadata": {},
   "outputs": [
    {
     "name": "stdout",
     "output_type": "stream",
     "text": [
      "float64\n"
     ]
    }
   ],
   "source": [
    "# Flotante\n",
    "array = np.array([[1,2,3,4,5],\n",
    "                 [6,7,8,9.3,10]])\n",
    "print(array.dtype)"
   ]
  },
  {
   "cell_type": "code",
   "execution_count": 12,
   "id": "daf1849b",
   "metadata": {},
   "outputs": [
    {
     "name": "stdout",
     "output_type": "stream",
     "text": [
      "<U4\n"
     ]
    }
   ],
   "source": [
    "# Unicode\n",
    "array = np.array(['Hola', 'que', 'tal'])\n",
    "print(array.dtype)"
   ]
  },
  {
   "cell_type": "markdown",
   "id": "c021abae",
   "metadata": {},
   "source": [
    "### Arrays pregenerados\n",
    "- **.zeros(*número*)** : DEVUELVE UN ARRAY DE UNA DIMENSIÓN FORMADO POR **N** CEROS\n",
    "- **.zeros(*[tamaño_matriz]*)** : DEVUELVE UNA MATRIZ CON EL TAMAÑO ESPECIFICADO LLENA DE CEROS\n",
    "De igual manera se puede hacer con números **uno**\n",
    "- **.ones(*número*)** : DEVUELVE UN ARRAY DE UNA DIMENSIÓN FORMADO POR **N** UNOS\n",
    "- **.ones(*[tamaño_matriz]*)** : DEVUELVE UNA MATRIZ CON EL TAMAÑO ESPECIFICADO LLENA DE UNOS\n",
    "\n",
    "- **.eye(número)** : DEVUELVE LA MATRIZ CON LA DIAGONAL IDENTIDAD\n",
    "Crear arrays a partir de un rango de valores\n",
    "- **.arange(número)** : DEVUELVE UN ARRAY ENTERO DESDE ***0*** A ***número - 1***\n",
    "- **.arange(número.)** : DEVUELVE UN ARRAY FLOTANTE DESDE ***0*** A ***número - 1***\n",
    "- **.arange(n1, n2)** : DEVUELVE UN ARRAY ENTERO DESDE ***n1*** A ***n2 - 1***\n",
    "- **.arange(n1, n2, salto)** : DEVUELVE UN ARRAY ENTERO DESDE ***n1*** A ***n2 - 1*** CADA ***salto*** NÚMEROS"
   ]
  },
  {
   "cell_type": "code",
   "execution_count": 14,
   "id": "725d5cc9",
   "metadata": {},
   "outputs": [
    {
     "name": "stdout",
     "output_type": "stream",
     "text": [
      "[-10  -8  -6  -4  -2   0   2   4   6   8  10]\n"
     ]
    }
   ],
   "source": [
    "array = np.arange(-10,11,2)\n",
    "print(array)"
   ]
  },
  {
   "cell_type": "code",
   "execution_count": 15,
   "id": "16885e1b",
   "metadata": {},
   "outputs": [
    {
     "name": "stdout",
     "output_type": "stream",
     "text": [
      "[-20 -16 -12  -8  -4   0   4   8  12  16  20]\n"
     ]
    }
   ],
   "source": [
    "array2 = np.arange(-20,21,4)\n",
    "print(array2)"
   ]
  },
  {
   "cell_type": "markdown",
   "id": "152dbc60",
   "metadata": {},
   "source": [
    "### Operaciones con matrices\n",
    "Para suma y resta deben tener las misma dimensiones\n"
   ]
  },
  {
   "cell_type": "code",
   "execution_count": 16,
   "id": "43c43f8d",
   "metadata": {},
   "outputs": [
    {
     "name": "stdout",
     "output_type": "stream",
     "text": [
      "[-30 -24 -18 -12  -6   0   6  12  18  24  30]\n"
     ]
    }
   ],
   "source": [
    "print(array + array2)"
   ]
  },
  {
   "cell_type": "code",
   "execution_count": 18,
   "id": "51553377",
   "metadata": {},
   "outputs": [
    {
     "name": "stdout",
     "output_type": "stream",
     "text": [
      "[-10  -8  -6  -4  -2   0   2   4   6   8  10]\n"
     ]
    }
   ],
   "source": [
    "print(array2 - array)"
   ]
  },
  {
   "cell_type": "markdown",
   "id": "04a4ad0a",
   "metadata": {},
   "source": [
    "#### Multiplicar y/o dividir un array por algún número\n"
   ]
  },
  {
   "cell_type": "code",
   "execution_count": 19,
   "id": "3344538a",
   "metadata": {},
   "outputs": [
    {
     "name": "stdout",
     "output_type": "stream",
     "text": [
      "[-20 -16 -12  -8  -4   0   4   8  12  16  20]\n"
     ]
    }
   ],
   "source": [
    "print(array*2)"
   ]
  },
  {
   "cell_type": "code",
   "execution_count": 20,
   "id": "f7866dda",
   "metadata": {},
   "outputs": [
    {
     "name": "stdout",
     "output_type": "stream",
     "text": [
      "[-5. -4. -3. -2. -1.  0.  1.  2.  3.  4.  5.]\n"
     ]
    }
   ],
   "source": [
    "print(array/2)"
   ]
  },
  {
   "cell_type": "markdown",
   "id": "b84e9d1f",
   "metadata": {},
   "source": [
    "#### Array recíproco"
   ]
  },
  {
   "cell_type": "code",
   "execution_count": 21,
   "id": "871d3e6c",
   "metadata": {},
   "outputs": [
    {
     "name": "stdout",
     "output_type": "stream",
     "text": [
      "[-0.1        -0.125      -0.16666667 -0.25       -0.5                inf\n",
      "  0.5         0.25        0.16666667  0.125       0.1       ]\n"
     ]
    },
    {
     "name": "stderr",
     "output_type": "stream",
     "text": [
      "C:\\Users\\26ald\\AppData\\Local\\Temp\\ipykernel_67444\\3813850534.py:1: RuntimeWarning: divide by zero encountered in power\n",
      "  print(array ** -1.)\n"
     ]
    }
   ],
   "source": [
    "print(array ** -1.)"
   ]
  },
  {
   "cell_type": "markdown",
   "id": "08d7fb27",
   "metadata": {},
   "source": [
    "### Índices\n",
    "Los índices en **Numpy** funcionan exactamente igual que con listas. \n",
    "\n",
    "Las propiedades de slicing se conservan.\n",
    "\n",
    "Los arrays son creados por referencia, ya que **numpy** genera cada dato de la forma mas óptima posible, es por eso que hay que tener cuidado al intentar modificar un array o subarray.\n",
    "Para ahorrarnos este problema, los arrays tienen un método llamado ***.copy()** que hacer una copia por valor del array original."
   ]
  },
  {
   "cell_type": "markdown",
   "id": "d0c1bdba",
   "metadata": {},
   "source": [
    "### Arrays de mas dimensiones"
   ]
  },
  {
   "cell_type": "code",
   "execution_count": 22,
   "id": "4b7b9c5a",
   "metadata": {},
   "outputs": [
    {
     "data": {
      "text/plain": [
       "array([[[1, 2],\n",
       "        [3, 4]],\n",
       "\n",
       "       [[5, 6],\n",
       "        [7, 8]]])"
      ]
     },
     "execution_count": 22,
     "metadata": {},
     "output_type": "execute_result"
    }
   ],
   "source": [
    "arr_3d = np.array([\n",
    "    [\n",
    "        [1,2],\n",
    "        [3,4]\n",
    "    ],\n",
    "    [\n",
    "        [5,6],\n",
    "        [7,8]\n",
    "    ]\n",
    "])\n",
    "\n",
    "arr_3d"
   ]
  },
  {
   "cell_type": "code",
   "execution_count": 28,
   "id": "45a2f978",
   "metadata": {},
   "outputs": [
    {
     "data": {
      "text/plain": [
       "array([[[1., 1., 1.],\n",
       "        [1., 1., 1.],\n",
       "        [1., 1., 1.]],\n",
       "\n",
       "       [[1., 1., 1.],\n",
       "        [1., 1., 1.],\n",
       "        [1., 1., 1.]],\n",
       "\n",
       "       [[1., 1., 1.],\n",
       "        [1., 1., 1.],\n",
       "        [1., 1., 1.]]])"
      ]
     },
     "execution_count": 28,
     "metadata": {},
     "output_type": "execute_result"
    }
   ],
   "source": [
    "cubo_de_unos = np.ones([3,3,3])\n",
    "cubo_de_unos"
   ]
  },
  {
   "cell_type": "code",
   "execution_count": 26,
   "id": "cb50a707",
   "metadata": {},
   "outputs": [],
   "source": [
    "# array 4d de unos\n",
    "array4d = np.ones([3,3,3,3])"
   ]
  },
  {
   "cell_type": "code",
   "execution_count": 27,
   "id": "d3bf5b46",
   "metadata": {},
   "outputs": [
    {
     "data": {
      "text/plain": [
       "array([[[[1., 1., 1.],\n",
       "         [1., 1., 1.],\n",
       "         [1., 1., 1.]],\n",
       "\n",
       "        [[1., 1., 1.],\n",
       "         [1., 1., 1.],\n",
       "         [1., 1., 1.]],\n",
       "\n",
       "        [[1., 1., 1.],\n",
       "         [1., 1., 1.],\n",
       "         [1., 1., 1.]]],\n",
       "\n",
       "\n",
       "       [[[1., 1., 1.],\n",
       "         [1., 1., 1.],\n",
       "         [1., 1., 1.]],\n",
       "\n",
       "        [[1., 1., 1.],\n",
       "         [1., 1., 1.],\n",
       "         [1., 1., 1.]],\n",
       "\n",
       "        [[1., 1., 1.],\n",
       "         [1., 1., 1.],\n",
       "         [1., 1., 1.]]],\n",
       "\n",
       "\n",
       "       [[[1., 1., 1.],\n",
       "         [1., 1., 1.],\n",
       "         [1., 1., 1.]],\n",
       "\n",
       "        [[1., 1., 1.],\n",
       "         [1., 1., 1.],\n",
       "         [1., 1., 1.]],\n",
       "\n",
       "        [[1., 1., 1.],\n",
       "         [1., 1., 1.],\n",
       "         [1., 1., 1.]]]])"
      ]
     },
     "execution_count": 27,
     "metadata": {},
     "output_type": "execute_result"
    }
   ],
   "source": [
    "array4d"
   ]
  },
  {
   "cell_type": "markdown",
   "id": "a57bbc70",
   "metadata": {},
   "source": [
    "### Reshape y arange\n",
    "El método **reshape** sirve para reformar las dimensiones y sus tamaños."
   ]
  },
  {
   "cell_type": "code",
   "execution_count": 31,
   "id": "2dc13a2a",
   "metadata": {},
   "outputs": [
    {
     "data": {
      "text/plain": [
       "array([[0, 1, 2],\n",
       "       [3, 4, 5],\n",
       "       [6, 7, 8]])"
      ]
     },
     "execution_count": 31,
     "metadata": {},
     "output_type": "execute_result"
    }
   ],
   "source": [
    "# Creación con RESHAPE\n",
    "array = np.arange(9).reshape(3, 3)\n",
    "array"
   ]
  },
  {
   "cell_type": "code",
   "execution_count": 33,
   "id": "27a5d88b",
   "metadata": {},
   "outputs": [
    {
     "data": {
      "text/plain": [
       "array([[[ 1,  2,  3],\n",
       "        [ 4,  5,  6],\n",
       "        [ 7,  8,  9]],\n",
       "\n",
       "       [[10, 11, 12],\n",
       "        [13, 14, 15],\n",
       "        [16, 17, 18]],\n",
       "\n",
       "       [[19, 20, 21],\n",
       "        [22, 23, 24],\n",
       "        [25, 26, 27]]])"
      ]
     },
     "execution_count": 33,
     "metadata": {},
     "output_type": "execute_result"
    }
   ],
   "source": [
    "array = np.arange(1,28).reshape(3,3,3)\n",
    "array"
   ]
  },
  {
   "cell_type": "markdown",
   "id": "36c94363",
   "metadata": {},
   "source": [
    "### Arrays transpuestos\n",
    "filas --> columnas\n",
    "\n",
    "\n",
    "columnas --> filas"
   ]
  },
  {
   "cell_type": "code",
   "execution_count": 40,
   "id": "6797a71c",
   "metadata": {},
   "outputs": [
    {
     "data": {
      "text/plain": [
       "array([[1, 2, 3],\n",
       "       [4, 5, 6],\n",
       "       [7, 8, 9]])"
      ]
     },
     "execution_count": 40,
     "metadata": {},
     "output_type": "execute_result"
    }
   ],
   "source": [
    "prueba = np.arange(1,10).reshape(3,3)\n",
    "prueba"
   ]
  },
  {
   "cell_type": "code",
   "execution_count": 41,
   "id": "1172403a",
   "metadata": {},
   "outputs": [
    {
     "data": {
      "text/plain": [
       "array([[1, 4, 7],\n",
       "       [2, 5, 8],\n",
       "       [3, 6, 9]])"
      ]
     },
     "execution_count": 41,
     "metadata": {},
     "output_type": "execute_result"
    }
   ],
   "source": [
    "prueba.T"
   ]
  },
  {
   "cell_type": "code",
   "execution_count": 42,
   "id": "57ef04f9",
   "metadata": {},
   "outputs": [
    {
     "data": {
      "text/plain": [
       "array([[1, 2, 3],\n",
       "       [4, 5, 6],\n",
       "       [7, 8, 9]])"
      ]
     },
     "execution_count": 42,
     "metadata": {},
     "output_type": "execute_result"
    }
   ],
   "source": [
    "prueba.T.T"
   ]
  },
  {
   "cell_type": "markdown",
   "id": "e4641eb0",
   "metadata": {},
   "source": [
    "### Swapaxes\n",
    "Para cambiar valores de posición a posición"
   ]
  },
  {
   "cell_type": "markdown",
   "id": "f189604f",
   "metadata": {},
   "source": [
    "### Funciones adicionales\n",
    "- **np.maximum(*arreglo*,*arreglo*)** : DEVUELVE EL ARRAY MÁXIMO\n",
    "- **np.equal(*arreglo*,*arreglo*)** : DEVUELVE BOOLEAN SI SON IGUALES\n",
    "- **np.greater(*arreglo*,*arreglo*)** : DEVUELVE UN ARRAY CON LOS VALORES *True* O *False* POR CADA ELEMENTO DEL PRIMERO ARRAY QUE SEA MAYOR AL DEL SEGUNDO ARRAY DE LA MISMA POSICIÓN\n",
    "- **np.fabs(*arreglo*)** : DEVUELVE UN ARRAY CON EL VALOR ABS DE CADA ELEMENTO\n",
    "- **np.ceil(*arreglo*)** : DEVUELVE EL ARRAY CON LOS ELEMENTOS REDONDEADOS A LA ALZA\n",
    "- **np.floor(*arreglo*)** : DEVUELVE EL ARRAY CON LOS ELEMENTOS REDONDEADOS A LA BAJA"
   ]
  },
  {
   "cell_type": "markdown",
   "id": "b4d52208",
   "metadata": {},
   "source": [
    "### Funciones aleatorias\n",
    "- **np.random.rand()** : DEVUELVE UN NUMERO ALEATORIO ENTRE CERO Y UNO\n",
    "- **np.random.rand(n)** : DEVUELVE UN ARRAY ALEATORIO CON ELEMENTOS ENTRE CERO Y UNO\n",
    "- **np.random.rand(n1, n2)** : DEVUELVE UN ARRAY 2D ALEATORIO CON ELEMENTOS ENTRE CERO Y UNO\n",
    "\n",
    "\n",
    "- **np.random.uniform(n, size=[d1,d2,d3...])** : DEVUELVE UNA MATRIZ CON NUMEROS DECIMALES DEL 0 AL N\n",
    "- **np.random.uniform(n, size=[d1,d2,d3...])** : DEVUELVE UNA MATRIZ CON NUMEROS ENTEROS DE **N** A **M**\n",
    "\n",
    "\n",
    "- **np.random.ranint(n, size=[d1,d2,d3...])** : DEVUELVE UNA MATRIZ CON NUMEROS ENTEROS DE **N** A **M**)**\n",
    "\n",
    "\n",
    "- **np.random.normal(size=)** : DEVUELVE UN ARRAY CON CURVA GAUSSIANA\n",
    "\n",
    "\n",
    "- **np.random.shuffle(array)** : CAMBIA DE POSICIÓN LOS VALORES INTERNOS ALEATORIAMENTE\n",
    "- **np.random.permutation(n)** : DEVUELVE MATRIZ CON NUMERO ALEATORIOS EN UN RANGO *N*"
   ]
  },
  {
   "cell_type": "code",
   "execution_count": null,
   "id": "bbe97f07",
   "metadata": {},
   "outputs": [],
   "source": []
  }
 ],
 "metadata": {
  "kernelspec": {
   "display_name": "Python 3 (ipykernel)",
   "language": "python",
   "name": "python3"
  },
  "language_info": {
   "codemirror_mode": {
    "name": "ipython",
    "version": 3
   },
   "file_extension": ".py",
   "mimetype": "text/x-python",
   "name": "python",
   "nbconvert_exporter": "python",
   "pygments_lexer": "ipython3",
   "version": "3.10.4"
  }
 },
 "nbformat": 4,
 "nbformat_minor": 5
}
