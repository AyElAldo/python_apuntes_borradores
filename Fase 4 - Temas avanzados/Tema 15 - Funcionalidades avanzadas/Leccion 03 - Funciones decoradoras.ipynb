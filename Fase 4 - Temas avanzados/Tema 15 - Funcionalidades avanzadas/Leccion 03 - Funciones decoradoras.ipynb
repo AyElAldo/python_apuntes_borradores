{
 "cells": [
  {
   "cell_type": "markdown",
   "metadata": {},
   "source": [
    "# Ámbitos y funciones decoradoras"
   ]
  },
  {
   "cell_type": "markdown",
   "metadata": {},
   "source": [
    "#### NOTA: Antes de realizar esta lección debes reiniciar Jupyter Notebook para vaciar la memoria."
   ]
  },
  {
   "cell_type": "code",
   "execution_count": 1,
   "metadata": {},
   "outputs": [],
   "source": [
    "def hola():\n",
    "    def bienvenido():\n",
    "        return 'Hola!'\n",
    "    \n",
    "    return bienvenido"
   ]
  },
  {
   "cell_type": "code",
   "execution_count": 2,
   "metadata": {},
   "outputs": [
    {
     "ename": "NameError",
     "evalue": "name 'bienvenido' is not defined",
     "output_type": "error",
     "traceback": [
      "\u001b[1;31m---------------------------------------------------------------------------\u001b[0m",
      "\u001b[1;31mNameError\u001b[0m                                 Traceback (most recent call last)",
      "Input \u001b[1;32mIn [2]\u001b[0m, in \u001b[0;36m<cell line: 1>\u001b[1;34m()\u001b[0m\n\u001b[1;32m----> 1\u001b[0m \u001b[43mbienvenido\u001b[49m()\n",
      "\u001b[1;31mNameError\u001b[0m: name 'bienvenido' is not defined"
     ]
    }
   ],
   "source": [
    "bienvenido()"
   ]
  },
  {
   "cell_type": "code",
   "execution_count": 3,
   "metadata": {},
   "outputs": [
    {
     "data": {
      "text/plain": [
       "<function __main__.hola.<locals>.bienvenido()>"
      ]
     },
     "execution_count": 3,
     "metadata": {},
     "output_type": "execute_result"
    }
   ],
   "source": [
    "hola()"
   ]
  },
  {
   "cell_type": "code",
   "execution_count": 1,
   "metadata": {},
   "outputs": [
    {
     "name": "stdout",
     "output_type": "stream",
     "text": [
      "{'bienvenido': <function hola.<locals>.bienvenido at 0x0000021B1BD0A680>}\n",
      "{'__name__': '__main__', '__doc__': 'Automatically created module for IPython interactive environment', '__package__': None, '__loader__': None, '__spec__': None, '__builtin__': <module 'builtins' (built-in)>, '__builtins__': <module 'builtins' (built-in)>, '_ih': ['', \"def hola():\\n    def bienvenido():\\n        return 'Hola!'\\n    \\n    print(locals())\\n    print(globals())\\n    \\n    return bienvenido\\n\\nhola()\"], '_oh': {}, '_dh': [WindowsPath('C:/Users/26ald/OneDrive/Escritorio/Cursos/Python/Udemy2.0/Fase 4 - Temas avanzados/Tema 15 - Funcionalidades avanzadas')], 'In': ['', \"def hola():\\n    def bienvenido():\\n        return 'Hola!'\\n    \\n    print(locals())\\n    print(globals())\\n    \\n    return bienvenido\\n\\nhola()\"], 'Out': {}, 'get_ipython': <bound method InteractiveShell.get_ipython of <ipykernel.zmqshell.ZMQInteractiveShell object at 0x0000021B1BCFAE60>>, 'exit': <IPython.core.autocall.ZMQExitAutocall object at 0x0000021B1BD41B40>, 'quit': <IPython.core.autocall.ZMQExitAutocall object at 0x0000021B1BD41B40>, '_': '', '__': '', '___': '', '_i': '', '_ii': '', '_iii': '', '_i1': \"def hola():\\n    def bienvenido():\\n        return 'Hola!'\\n    \\n    print(locals())\\n    print(globals())\\n    \\n    return bienvenido\\n\\nhola()\", 'hola': <function hola at 0x0000021B1BD0AEF0>}\n"
     ]
    },
    {
     "data": {
      "text/plain": [
       "<function __main__.hola.<locals>.bienvenido()>"
      ]
     },
     "execution_count": 1,
     "metadata": {},
     "output_type": "execute_result"
    }
   ],
   "source": [
    "def hola():\n",
    "    def bienvenido():\n",
    "        return 'Hola!'\n",
    "    \n",
    "    print(locals())\n",
    "    print(globals())\n",
    "    \n",
    "    return bienvenido\n",
    "\n",
    "hola()"
   ]
  },
  {
   "cell_type": "code",
   "execution_count": 2,
   "metadata": {},
   "outputs": [
    {
     "data": {
      "text/plain": [
       "'Hola!'"
      ]
     },
     "execution_count": 2,
     "metadata": {},
     "output_type": "execute_result"
    }
   ],
   "source": [
    "def hola():\n",
    "    def bienvenido():\n",
    "        return 'Hola!'\n",
    "    \n",
    "    return bienvenido()\n",
    "\n",
    "hola()"
   ]
  },
  {
   "cell_type": "code",
   "execution_count": 4,
   "metadata": {},
   "outputs": [
    {
     "data": {
      "text/plain": [
       "'Hola!'"
      ]
     },
     "execution_count": 4,
     "metadata": {},
     "output_type": "execute_result"
    }
   ],
   "source": [
    "def hola():\n",
    "    def bienvenido():\n",
    "        return 'Hola!'\n",
    "    \n",
    "    return bienvenido\n",
    "\n",
    "hola()()"
   ]
  },
  {
   "cell_type": "code",
   "execution_count": 6,
   "metadata": {},
   "outputs": [
    {
     "name": "stdout",
     "output_type": "stream",
     "text": [
      "Hola\n"
     ]
    }
   ],
   "source": [
    "# DECORADOR\n",
    "def hola():\n",
    "    return 'Hola'\n",
    "\n",
    "def test(function):\n",
    "    print(function())\n",
    "\n",
    "test(hola)"
   ]
  },
  {
   "cell_type": "markdown",
   "metadata": {},
   "source": [
    "### Funciones decoradoras"
   ]
  },
  {
   "cell_type": "code",
   "execution_count": 8,
   "metadata": {},
   "outputs": [
    {
     "name": "stdout",
     "output_type": "stream",
     "text": [
      "Se esta ejecutando la funcion hola\n",
      "Hola\n",
      "Se ha fnalizado la ejecucion de la funcion hola\n"
     ]
    }
   ],
   "source": [
    "def hola():\n",
    "    print(\"Hola\")\n",
    "    \n",
    "def adios():\n",
    "    print(\"Adios\")\n",
    "\n",
    "def monitorizar(function):\n",
    "    def decorar():\n",
    "        print(\"Se esta ejecutando la funcion\", function.__name__)\n",
    "        \n",
    "        function()\n",
    "        \n",
    "        print(\"Se ha fnalizado la ejecucion de la funcion\", function.__name__)\n",
    "        \n",
    "    return decorar\n",
    "\n",
    "monitorizar(hola)()"
   ]
  },
  {
   "cell_type": "code",
   "execution_count": 9,
   "metadata": {},
   "outputs": [
    {
     "name": "stdout",
     "output_type": "stream",
     "text": [
      "Se esta ejecutando la funcion hola\n",
      "Hola\n",
      "Se ha fnalizado la ejecucion de la funcion hola\n"
     ]
    }
   ],
   "source": [
    "@monitorizar\n",
    "def hola():\n",
    "    print(\"Hola\")\n",
    "\n",
    "@monitorizar\n",
    "def adios():\n",
    "    print(\"Adios\")\n",
    "\n",
    "def monitorizar(function):\n",
    "    def decorar():\n",
    "        print(\"Se esta ejecutando la funcion\", function.__name__)\n",
    "        \n",
    "        function()\n",
    "        \n",
    "        print(\"Se ha fnalizado la ejecucion de la funcion\", function.__name__)\n",
    "        \n",
    "    return decorar\n",
    "\n",
    "hola()"
   ]
  },
  {
   "cell_type": "code",
   "execution_count": null,
   "metadata": {},
   "outputs": [],
   "source": []
  }
 ],
 "metadata": {
  "anaconda-cloud": {},
  "kernelspec": {
   "display_name": "Python 3 (ipykernel)",
   "language": "python",
   "name": "python3"
  },
  "language_info": {
   "codemirror_mode": {
    "name": "ipython",
    "version": 3
   },
   "file_extension": ".py",
   "mimetype": "text/x-python",
   "name": "python",
   "nbconvert_exporter": "python",
   "pygments_lexer": "ipython3",
   "version": "3.10.4"
  }
 },
 "nbformat": 4,
 "nbformat_minor": 1
}
