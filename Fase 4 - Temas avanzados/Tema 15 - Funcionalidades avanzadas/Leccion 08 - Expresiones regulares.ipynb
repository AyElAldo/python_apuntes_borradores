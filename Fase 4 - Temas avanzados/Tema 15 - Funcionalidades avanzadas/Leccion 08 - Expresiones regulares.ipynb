{
 "cells": [
  {
   "cell_type": "markdown",
   "metadata": {},
   "source": [
    "# Expresiones regulares\n",
    "Patrones de búsqueda para cadenas\n",
    "\n",
    "Para usar expresiones regulares, necesitamos importar el módulo ***re***.\n",
    "``` python\n",
    "import re\n",
    "```\n",
    "\n",
    "\n",
    "Si se encuentra la subcadena devuelve un objeto de tipo **Match**.\n",
    "De lo contrario, no regresa nada.\n",
    "\n",
    "Métodos principales\n",
    "- **.search(subcadena, cadena)** : OBJETO TIPO MATCH, SE PUEDE SABER DONDE EMPIEZA Y DONDE TERMINA\n",
    "- **.match(subcadena, cadena)** : OBJETO TIPO MATCH, SOLO SI LA **CADENA** EMPIEZA CON LA **SUBCADENA**\n",
    "- **.split(subcadena, cadena)** : DIVIDE UNA CADENA A PARTIR DE UN PATRÓN\n",
    "- **.sub(, subcadena_a_cambiar, subcadena_nueva, cadena)** : SUSTITUYE TODAS LAS COINCIDENCIAS EN UNA CADENA\n",
    "- **.findall(subcadena, cadena)** : BUSCA TODAS LAS COINCIDENCIAS EN UNA CADENA ***SE PUEDEN PONER OPERADORES LÓGICOS***"
   ]
  },
  {
   "cell_type": "code",
   "execution_count": 2,
   "metadata": {},
   "outputs": [
    {
     "data": {
      "text/plain": [
       "<re.Match object; span=(40, 46), match='mágica'>"
      ]
     },
     "execution_count": 2,
     "metadata": {},
     "output_type": "execute_result"
    }
   ],
   "source": [
    "import re\n",
    "\n",
    "texto = \"En esta cadena se encuentra una palabra mágica\"\n",
    "\n",
    "re.search('mágica', texto)"
   ]
  },
  {
   "cell_type": "code",
   "execution_count": 3,
   "metadata": {},
   "outputs": [],
   "source": [
    "re.search('hola', texto)"
   ]
  },
  {
   "cell_type": "code",
   "execution_count": 10,
   "metadata": {},
   "outputs": [
    {
     "data": {
      "text/plain": [
       "['hla ', ' hola', ' hola', ' hola']"
      ]
     },
     "execution_count": 10,
     "metadata": {},
     "output_type": "execute_result"
    }
   ],
   "source": [
    "texto = \"hla hola holaa holaaa holalalalaaa\"\n",
    "re.findall('hla | hola', texto)"
   ]
  },
  {
   "cell_type": "code",
   "execution_count": 6,
   "metadata": {},
   "outputs": [
    {
     "name": "stdout",
     "output_type": "stream",
     "text": [
      "['hla']\n",
      "['hola', 'hola', 'hola']\n",
      "['holaa', 'holaa']\n"
     ]
    }
   ],
   "source": [
    "def buscar(patrones, texto):\n",
    "    for patron in patrones:\n",
    "        print(re.findall(patron, texto))\n",
    "        \n",
    "patrones = ['hla', 'hola', 'holaa']\n",
    "buscar(patrones,texto)"
   ]
  },
  {
   "cell_type": "code",
   "execution_count": 7,
   "metadata": {},
   "outputs": [
    {
     "name": "stdout",
     "output_type": "stream",
     "text": [
      "['la', 'la', 'la', 'la']\n",
      "['la', 'la', 'laa', 'laaa']\n"
     ]
    }
   ],
   "source": [
    "patrones = ['la', 'la*']\n",
    "buscar(patrones, texto)"
   ]
  },
  {
   "cell_type": "code",
   "execution_count": 11,
   "metadata": {},
   "outputs": [
    {
     "name": "stdout",
     "output_type": "stream",
     "text": [
      "['', 'la', '', '', '', 'la', '', '', '', 'la', '', '', '', '', 'la', '', '', '', '', '', 'la', '', '', '']\n"
     ]
    }
   ],
   "source": [
    "patrones = ['(la)*']\n",
    "buscar(patrones, texto)"
   ]
  },
  {
   "cell_type": "markdown",
   "metadata": {},
   "source": [
    "### Encontrar una cadena que tenga una subcadena"
   ]
  },
  {
   "cell_type": "code",
   "execution_count": 13,
   "metadata": {},
   "outputs": [
    {
     "name": "stdout",
     "output_type": "stream",
     "text": [
      "['hla', 'hola', 'hola', 'hola', 'hola']\n"
     ]
    }
   ],
   "source": [
    "patrones = ['ho{0,2}la']\n",
    "buscar(patrones, texto)"
   ]
  },
  {
   "cell_type": "code",
   "execution_count": 16,
   "metadata": {},
   "outputs": [
    {
     "name": "stdout",
     "output_type": "stream",
     "text": [
      "['hola', 'hula']\n",
      "['hala', 'hila', 'hola']\n"
     ]
    }
   ],
   "source": [
    "texto = 'hala hela hila hola hula'\n",
    "\n",
    "patrones = ['h[ou]la', 'h[aio]la']\n",
    "\n",
    "buscar(patrones, texto)"
   ]
  },
  {
   "cell_type": "code",
   "execution_count": 17,
   "metadata": {},
   "outputs": [
    {
     "name": "stdout",
     "output_type": "stream",
     "text": [
      "[]\n",
      "['hala']\n"
     ]
    }
   ],
   "source": [
    "texto = 'hala heela hiiila hoooola huuuuula'\n",
    "\n",
    "patrones = ['h[ou]la', 'h[aio]la']\n",
    "\n",
    "buscar(patrones, texto)"
   ]
  },
  {
   "cell_type": "code",
   "execution_count": 18,
   "metadata": {},
   "outputs": [
    {
     "name": "stdout",
     "output_type": "stream",
     "text": [
      "['hoooola', 'huuuuula']\n",
      "['hala', 'hiiila', 'hoooola']\n"
     ]
    }
   ],
   "source": [
    "texto = 'hala heela hiiila hoooola huuuuula'\n",
    "\n",
    "patrones = ['h[ou]*la', 'h[aio]*la']\n",
    "\n",
    "buscar(patrones, texto)"
   ]
  },
  {
   "cell_type": "markdown",
   "metadata": {},
   "source": [
    "### Negación ^"
   ]
  },
  {
   "cell_type": "code",
   "execution_count": null,
   "metadata": {},
   "outputs": [],
   "source": []
  }
 ],
 "metadata": {
  "anaconda-cloud": {},
  "kernelspec": {
   "display_name": "Python 3 (ipykernel)",
   "language": "python",
   "name": "python3"
  },
  "language_info": {
   "codemirror_mode": {
    "name": "ipython",
    "version": 3
   },
   "file_extension": ".py",
   "mimetype": "text/x-python",
   "name": "python",
   "nbconvert_exporter": "python",
   "pygments_lexer": "ipython3",
   "version": "3.10.4"
  }
 },
 "nbformat": 4,
 "nbformat_minor": 1
}
