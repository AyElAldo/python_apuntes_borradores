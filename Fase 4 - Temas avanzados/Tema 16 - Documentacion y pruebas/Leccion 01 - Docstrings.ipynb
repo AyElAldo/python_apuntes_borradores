{
 "cells": [
  {
   "cell_type": "markdown",
   "metadata": {},
   "source": [
    "# Docstrings"
   ]
  },
  {
   "cell_type": "code",
   "execution_count": 1,
   "metadata": {},
   "outputs": [],
   "source": [
    "def hola(arg):\n",
    "    \"\"\"Este es el doctring de la función\"\"\"\n",
    "    print('Hola', arg, '!')"
   ]
  },
  {
   "cell_type": "code",
   "execution_count": 2,
   "metadata": {},
   "outputs": [
    {
     "name": "stdout",
     "output_type": "stream",
     "text": [
      "Hola Aldo !\n"
     ]
    }
   ],
   "source": [
    "hola('Aldo')"
   ]
  },
  {
   "cell_type": "code",
   "execution_count": 3,
   "metadata": {},
   "outputs": [
    {
     "name": "stdout",
     "output_type": "stream",
     "text": [
      "Help on function hola in module __main__:\n",
      "\n",
      "hola(arg)\n",
      "    Este es el doctring de la función\n",
      "\n"
     ]
    }
   ],
   "source": [
    "help(hola)"
   ]
  },
  {
   "cell_type": "markdown",
   "metadata": {},
   "source": [
    "### Uso de pydoc\n",
    "En la terminal no se puede llamar a la función **help()** por lo que para poder ver la documentación desde la terminal, se necestia usar el comando ***pydoc nombre_del_objeto_a_documentar*** \n",
    "\n",
    "Además con este comando podemos crear en tiempo real la documentación en un documento *html*. \n",
    "\n",
    "\n",
    "Escribiendo **pydoc -w nombre_del_objeto_a_documentar**  o bien, cuando hay paquetes dentro de otros paquetes se necesita el siguiente comando **pydoc -w nombre_del_objeto_a_documentar ./** "
   ]
  },
  {
   "cell_type": "markdown",
   "metadata": {},
   "source": [
    "### Uso de Codtest\n",
    "Pruebas en documentación"
   ]
  },
  {
   "cell_type": "code",
   "execution_count": 5,
   "metadata": {},
   "outputs": [],
   "source": [
    "def suma(a,b):\n",
    "    \"\"\"\n",
    "    La función suma(a,b) devuelve la suma de dos numeros.\n",
    "    \n",
    "    >>> suma(10,5)\n",
    "    15\n",
    "    \n",
    "    \"\"\"\n",
    "    \n",
    "    return a+b"
   ]
  },
  {
   "cell_type": "code",
   "execution_count": 6,
   "metadata": {},
   "outputs": [
    {
     "data": {
      "text/plain": [
       "TestResults(failed=0, attempted=1)"
      ]
     },
     "execution_count": 6,
     "metadata": {},
     "output_type": "execute_result"
    }
   ],
   "source": [
    "import doctest \n",
    "doctest.testmod()"
   ]
  },
  {
   "cell_type": "markdown",
   "metadata": {},
   "source": [
    "### Uso de unittest\n",
    "A diferencia de **doctest**, este te perite hacer las pruebas en el propio código. Para esto se necesita el uso de frameworks.\n",
    "\n",
    "\n",
    "Dentro de los test unitarios hay tres posibles respuestas:\n",
    "- OK: ÉXITO\n",
    "- F : FALLO\n",
    "- E : ERROR"
   ]
  },
  {
   "cell_type": "markdown",
   "metadata": {},
   "source": [
    "## Test Driven Development (TDD)\n"
   ]
  },
  {
   "cell_type": "code",
   "execution_count": null,
   "metadata": {},
   "outputs": [],
   "source": []
  }
 ],
 "metadata": {
  "anaconda-cloud": {},
  "kernelspec": {
   "display_name": "Python 3 (ipykernel)",
   "language": "python",
   "name": "python3"
  },
  "language_info": {
   "codemirror_mode": {
    "name": "ipython",
    "version": 3
   },
   "file_extension": ".py",
   "mimetype": "text/x-python",
   "name": "python",
   "nbconvert_exporter": "python",
   "pygments_lexer": "ipython3",
   "version": "3.10.4"
  }
 },
 "nbformat": 4,
 "nbformat_minor": 1
}
