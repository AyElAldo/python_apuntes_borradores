{
 "cells": [
  {
   "cell_type": "markdown",
   "metadata": {},
   "source": [
    "## Diccionarios\n",
    "- **.pop(*clave*,*valor_por_defecto*)** : SI EXISTE LA CLAVE, QUITA LA CLAVE Y SU RESPECTIVO VALOR DEL DICCIONARIO, DE LO CONTRARIO, DEVUELVE EL VALOR POR DEFECTO\n",
    "- **.clear()** : VACIAR DICCIONARIO\n",
    "\n",
    "\n",
    "- **[ *clave* ]** : DEVUELVE EL VALOR QUE CORRESPONDE A LA CLAVE\n",
    "- **.get(*clave*,*valor_por_defecto*)** : DEVUELVE EL VALOR DE LA CLAVE SI SE ENCUENTRA, DE LO CONTRARIO, DEVUELVE EL VALOR POR DEFECTO\n",
    "\n",
    "\n",
    "- **.keys()** : DEVUELVE UNA LISTA CON LAS CLAVES DEL DICCIONARIO\n",
    "- **.values()** : DEVUELVE UNA LISTA CON LOS VALORES DEL DICCIONARIO\n",
    "- **.items()** : DEVUELVE UNA LISTA DE TUPLAS CON CLAVE Y VALOR\n"
   ]
  },
  {
   "cell_type": "code",
   "execution_count": null,
   "metadata": {},
   "outputs": [],
   "source": []
  }
 ],
 "metadata": {
  "kernelspec": {
   "display_name": "Python 3 (ipykernel)",
   "language": "python",
   "name": "python3"
  },
  "language_info": {
   "codemirror_mode": {
    "name": "ipython",
    "version": 3
   },
   "file_extension": ".py",
   "mimetype": "text/x-python",
   "name": "python",
   "nbconvert_exporter": "python",
   "pygments_lexer": "ipython3",
   "version": "3.10.4"
  }
 },
 "nbformat": 4,
 "nbformat_minor": 1
}
