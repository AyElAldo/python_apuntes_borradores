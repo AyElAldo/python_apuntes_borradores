{
 "cells": [
  {
   "cell_type": "markdown",
   "metadata": {},
   "source": [
    "## Listas \n",
    "Métodos mas **comunes** de las listas\n",
    "\n",
    "- **.append(*elemento*)** - AGREGA UN ELEMENTO A AL FINAL DE LA LISTA\n",
    "- **.insert(*posicion*,*elemento*)** - INSERTA UN ELEMENTO EN LA POSICION INDICADA\n",
    "- **.pop()** - QUITA EL ULTIMO ELEMENTO DE LA LISTA\n",
    "- **.pop(*posicion*)** - QUITA EL ELEMENTO EN LA POSICION INDICADA\n",
    "- **.remove(*elemento*)** - ELIMINA EL ELEMENTO DE ESA LISTA\n",
    "\n",
    "\n",
    "- **.extend(*otra lista*)** - JUNTA LA LISTA CON OTRA\n",
    "\n",
    "\n",
    "- **.count(*elemento*)** - DEVUELVE EL NUMERO DE VECES QUE SE REPITE UN ELEMENTO EN LA LISTA\n",
    "- **.index(*elemento*)** - DEVUELVE EL INDICE DONDE SE ENCUENTRA EL ELEMENTO\n",
    "\n",
    "\n",
    "- **.reverse()** - MODIFICA LA LISTA AL REVES\n",
    "- **.sort()** - ORDENA LA LISTA\n",
    "- **.sort(reverse = True)** - ORDENA LA LISTA DESCRECIENTEMENTE"
   ]
  },
  {
   "cell_type": "code",
   "execution_count": null,
   "metadata": {},
   "outputs": [],
   "source": []
  }
 ],
 "metadata": {
  "kernelspec": {
   "display_name": "Python 3 (ipykernel)",
   "language": "python",
   "name": "python3"
  },
  "language_info": {
   "codemirror_mode": {
    "name": "ipython",
    "version": 3
   },
   "file_extension": ".py",
   "mimetype": "text/x-python",
   "name": "python",
   "nbconvert_exporter": "python",
   "pygments_lexer": "ipython3",
   "version": "3.10.4"
  }
 },
 "nbformat": 4,
 "nbformat_minor": 1
}
