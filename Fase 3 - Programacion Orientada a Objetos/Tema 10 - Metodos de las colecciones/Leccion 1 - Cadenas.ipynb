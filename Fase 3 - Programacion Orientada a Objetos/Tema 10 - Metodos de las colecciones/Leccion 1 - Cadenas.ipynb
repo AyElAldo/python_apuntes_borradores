{
 "cells": [
  {
   "cell_type": "markdown",
   "metadata": {},
   "source": [
    "## Cadenas\n",
    "**Principales** métodos para las cadenas:\n",
    "- **.upper()** : MAYUSCULAS\n",
    "- **.lower()** : MINUSCULAS\n",
    "- **.capitalize()** : PRIMERA MAYUSCULA EN PALABRA\n",
    "- **.title()** : PRIMERA MAYUSCULA EN FRASE\n",
    "\n",
    "\n",
    "- **.count(*subcadena*)** : CONTAR LAS VECES QUE UNA SUBCADENA SE ENCUENTRA EN LA CADENA\n",
    "- **.find(*subcadena*)** : DEVUELVE EL INDICE DONDE SE ENCUENTRA LA SUBCADENA\n",
    "- **.rfind(*subcadena*)** : REVERSE FIND, DEVUELVE EL INDICE DONDE SE ENCUENTRA LA ULTIMA SUBCADENA\n",
    "\n",
    "\n",
    "- **.isdigit()** : DEVUELVE BOOLEAN, SI HAY SOLO DIGITOS O NO\n",
    "- **.isalnum()** : DEVUELVE BOOLEAN, SI HAY SOLO ALFANUMERICO O NO\n",
    "- **.isalpha()** : DEVUELVE BOOLEAN, SI HAY SOLO CARACTERES ALFABETICOS O NO (NO INCLUYE AL ESPACIO)\n",
    "- **.isupper()** : DEVUELVE BOOLEAN, SI HAY SOLO MAYUSCULAS O NO\n",
    "- **.istitle()** : DEVUELVE BOOLEAN, SI ES TITLE O NO\n",
    "- **.isspace()** : DEVUELVE BOOLEAN, SI HAY SOLO ESPACIOS O NO\n",
    "\n",
    "\n",
    "- **.startswith(*subcadena*)** : DEVUELVE BOOLEAN, SI COMIENZA CON LA SUBCADENA O NO\n",
    "- **.endwith(*subcadena*)** : DEVUELVE BOOLEAN, SI TERMINA CON LA SUBCADENA O NO  \n",
    "\n",
    "\n",
    "- ***caracter*.join(*cadena*)** : DEVUELVE LA CADENA CON CADA CARACTER SEPARADO POR EL CARACTER ASIGNADO\n",
    "\n",
    "\n",
    "- **.split()** : DEVUELVE UNA LISTA CON LAS PALABRAS SEPARADAS POR CADA ESPACIO\n",
    "- **.split(*subcadena*)** : DEVUELVE UNA LISTA CON LAS PALABRAS SEPARADAS SUBCADENA INSTRODUCIDA\n",
    "\n",
    "\n",
    "- **.strip()** : BORRA LOS ESPACIOS SOBRANTES DE LA CADENA\n",
    "- **.strip(*caracter*)** : BORRA LOS CARACTERES SOBRANTES DE LA CADENA \n",
    "\n",
    "\n",
    "- **.replace(*subcadena*,*otra cadena*)** : REEMPLAZA LA SUBCADENA POR OTRA \n"
   ]
  },
  {
   "cell_type": "code",
   "execution_count": null,
   "metadata": {},
   "outputs": [],
   "source": []
  }
 ],
 "metadata": {
  "kernelspec": {
   "display_name": "Python 3 (ipykernel)",
   "language": "python",
   "name": "python3"
  },
  "language_info": {
   "codemirror_mode": {
    "name": "ipython",
    "version": 3
   },
   "file_extension": ".py",
   "mimetype": "text/x-python",
   "name": "python",
   "nbconvert_exporter": "python",
   "pygments_lexer": "ipython3",
   "version": "3.10.4"
  }
 },
 "nbformat": 4,
 "nbformat_minor": 1
}
