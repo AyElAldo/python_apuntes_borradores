{
 "cells": [
  {
   "cell_type": "markdown",
   "metadata": {},
   "source": [
    "## Conjuntos\n",
    "- **.add(*elemento*)** : AGREGA EL ELEMENTO AL CONJUNTO\n",
    "- **.discard(*elemento*)** : ELIMINA EL ELEMENTO DEL CONJUNTO\n",
    "- **.clear()** : VACIA TODO EL CONJUNTO\n",
    "\n",
    "\n",
    "- **.copy()** : DEVUELVE UNA COPIA DEL CONJUNTO\n",
    "\n",
    "\n",
    "- **.isdisjoint(*otro_conjunto*)** : DEVUELVE BOOLEAN, SI ES DISJUNTO A OTRO CONJUNTO O NO\n",
    "- **.issubset(*otro_conjunto*)** : DEVUELVE BOOLEAN, SI ES SUBCONJNTO DE OTRO CONJUNTO O NO\n",
    "- **.issuperset(*otro_conjunto*)** : DEVUELVE BOOLEAN, SI ES SUPERCONJUNTO DE OTRO CONJUNTO O NO\n",
    "\n",
    "- **.union(*otro_conjunto*)** : DEVUELVE CONJUNTO UNION DE LOS DOS CONJUNTOS\n",
    "\n",
    "\n",
    "- **.difference(*otro_conjunto*)** : DEVUELVE CONJUNTO DE LOS ELEMENTOS DEL CONJUNTO QUE NO ESTAN EN EL OTRO CONJUNTO\n",
    "- **.instersection(*otro_conjunto*)** : DEVUELVE CONJUNTO CON LOS ELEMENTOS EN COMÚN\n",
    "- **.symetric_difference(*otro_conjunto*)** : DEVUELVE CONJUNTO CON ELEMENTOS QUE NO CONCUERDAN ENTRE AMBOS CONJUNTOS\n",
    "\n",
    "\n",
    "**.metodo**_update() - EN LUGAR DE DEVOLVER, MODIFICA EL CONJUNTO"
   ]
  },
  {
   "cell_type": "code",
   "execution_count": 4,
   "metadata": {},
   "outputs": [
    {
     "data": {
      "text/plain": [
       "True"
      ]
     },
     "execution_count": 4,
     "metadata": {},
     "output_type": "execute_result"
    }
   ],
   "source": [
    "c1 = {1,2,3}\n",
    "c2 = {3,4,5}\n",
    "c3 = {1,2,3,4,5}\n",
    "c4 = {-1,-2,-3}\n",
    "c5 = {2,4,8}\n",
    "\n",
    "c1.issubset(c3)"
   ]
  },
  {
   "cell_type": "code",
   "execution_count": 7,
   "metadata": {},
   "outputs": [
    {
     "data": {
      "text/plain": [
       "False"
      ]
     },
     "execution_count": 7,
     "metadata": {},
     "output_type": "execute_result"
    }
   ],
   "source": [
    "c5.issubset(c3)"
   ]
  },
  {
   "cell_type": "code",
   "execution_count": 8,
   "metadata": {},
   "outputs": [
    {
     "data": {
      "text/plain": [
       "False"
      ]
     },
     "execution_count": 8,
     "metadata": {},
     "output_type": "execute_result"
    }
   ],
   "source": [
    "c5.isdisjoint(c2)"
   ]
  },
  {
   "cell_type": "code",
   "execution_count": 9,
   "metadata": {},
   "outputs": [
    {
     "data": {
      "text/plain": [
       "{1, 2, 3, 4, 5}"
      ]
     },
     "execution_count": 9,
     "metadata": {},
     "output_type": "execute_result"
    }
   ],
   "source": [
    "c1.union(c2)"
   ]
  },
  {
   "cell_type": "code",
   "execution_count": 10,
   "metadata": {},
   "outputs": [
    {
     "data": {
      "text/plain": [
       "{1, 2, 3}"
      ]
     },
     "execution_count": 10,
     "metadata": {},
     "output_type": "execute_result"
    }
   ],
   "source": [
    "c1\n"
   ]
  },
  {
   "cell_type": "code",
   "execution_count": 11,
   "metadata": {},
   "outputs": [],
   "source": [
    "c1 = c1.union(c2)"
   ]
  },
  {
   "cell_type": "code",
   "execution_count": 12,
   "metadata": {},
   "outputs": [
    {
     "data": {
      "text/plain": [
       "{1, 2, 3, 4, 5}"
      ]
     },
     "execution_count": 12,
     "metadata": {},
     "output_type": "execute_result"
    }
   ],
   "source": [
    "c1"
   ]
  },
  {
   "cell_type": "code",
   "execution_count": 13,
   "metadata": {},
   "outputs": [],
   "source": [
    "c1.discard(4)"
   ]
  },
  {
   "cell_type": "code",
   "execution_count": 14,
   "metadata": {},
   "outputs": [],
   "source": [
    "c1.discard(5)"
   ]
  },
  {
   "cell_type": "code",
   "execution_count": 15,
   "metadata": {},
   "outputs": [
    {
     "data": {
      "text/plain": [
       "{1, 2, 3}"
      ]
     },
     "execution_count": 15,
     "metadata": {},
     "output_type": "execute_result"
    }
   ],
   "source": [
    "c1"
   ]
  },
  {
   "cell_type": "code",
   "execution_count": null,
   "metadata": {},
   "outputs": [],
   "source": []
  }
 ],
 "metadata": {
  "kernelspec": {
   "display_name": "Python 3 (ipykernel)",
   "language": "python",
   "name": "python3"
  },
  "language_info": {
   "codemirror_mode": {
    "name": "ipython",
    "version": 3
   },
   "file_extension": ".py",
   "mimetype": "text/x-python",
   "name": "python",
   "nbconvert_exporter": "python",
   "pygments_lexer": "ipython3",
   "version": "3.10.4"
  }
 },
 "nbformat": 4,
 "nbformat_minor": 1
}
