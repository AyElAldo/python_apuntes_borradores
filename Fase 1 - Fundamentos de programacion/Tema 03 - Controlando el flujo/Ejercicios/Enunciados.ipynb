{
 "cells": [
  {
   "cell_type": "markdown",
   "metadata": {},
   "source": [
    "# Tema 03: Control de flujo (Enunciados)\n",
    "*Nota: Estos ejercicios son optativos para hacer al final de la unidad y están pensados para apoyar tu aprendizaje*."
   ]
  },
  {
   "cell_type": "markdown",
   "metadata": {},
   "source": [
    "**1) Realiza un programa que lea dos números por teclado y permita elegir entre 3 opciones en un menú:** \n",
    "* Mostrar una suma de los dos números\n",
    "* Mostrar una resta de los dos números (el primero menos el segundo)\n",
    "* Mostrar una multiplicación de los dos números\n",
    "* En caso de no introducir una opción válida, el programa informará de que no es correcta."
   ]
  },
  {
   "cell_type": "code",
   "execution_count": 4,
   "metadata": {},
   "outputs": [
    {
     "name": "stdout",
     "output_type": "stream",
     "text": [
      "Escribe el primer numero: -1\n",
      "Escribe el segundo numero: 2.5\n",
      "\n",
      "         1. Sumar\n",
      "         2. Restar\n",
      "         3. Multiplicar\n",
      "         4. SALIR\n",
      "Elige la opcion deseada: 3\n",
      "La multiplicación de -1.0 y 2.5 es -2.5\n",
      "\n",
      "         1. Sumar\n",
      "         2. Restar\n",
      "         3. Multiplicar\n",
      "         4. SALIR\n",
      "Elige la opcion deseada: 4\n",
      "Has elegido la opcion SALIR. Hasta luego.\n"
     ]
    }
   ],
   "source": [
    "# Completa el ejercicio aquí\n",
    "numero1 = float(input('Escribe el primer numero: '))\n",
    "numero2 = float(input('Escribe el segundo numero: '))\n",
    "\n",
    "opcion = 0\n",
    "while(opcion != 4):\n",
    "    \n",
    "    print('''\n",
    "         1. Sumar\n",
    "         2. Restar\n",
    "         3. Multiplicar\n",
    "         4. SALIR''')\n",
    "    \n",
    "    opcion = int(input('Elige la opcion deseada: '))\n",
    "    \n",
    "    if(opcion == 1):\n",
    "        print(f'La suma de {numero1} y {numero2} es {numero1+numero2}')\n",
    "    elif(opcion == 2):\n",
    "        print(f'La resta de {numero1} y {numero2} es {numero1-numero2}')\n",
    "    elif(opcion == 3):\n",
    "        print(f'La multiplicación de {numero1} y {numero2} es {numero1*numero2}')\n",
    "    elif(opcion == 4):\n",
    "        print(\"Has elegido la opcion SALIR. Hasta luego.\")\n",
    "    else:\n",
    "        print(\"Opcion no válida. Vuelve a intentarlo.\")"
   ]
  },
  {
   "cell_type": "markdown",
   "metadata": {},
   "source": [
    "**2) Realiza un programa que lea un número impar por teclado. Si el usuario no introduce un número impar, debe repetise el proceso hasta que lo introduzca correctamente.**"
   ]
  },
  {
   "cell_type": "code",
   "execution_count": 10,
   "metadata": {},
   "outputs": [
    {
     "name": "stdout",
     "output_type": "stream",
     "text": [
      "Escribe un número impar: 2\n",
      "Es par, vuelve a intentarlo.\n",
      "Escribe un número impar: 1\n"
     ]
    }
   ],
   "source": [
    "# Completa el ejercicio aquí\n",
    "esImpar = False\n",
    "while(not esImpar):\n",
    "    n = int(input('Escribe un número impar: '))\n",
    "    if(n % 2 == 0):\n",
    "        print(\"Es par, vuelve a intentarlo.\")\n",
    "    else:\n",
    "        esImpar = True"
   ]
  },
  {
   "cell_type": "markdown",
   "metadata": {},
   "source": [
    "**3) Realiza un programa que sume todos los números enteros pares desde el 0 hasta el 100:**\n",
    "\n",
    "*Sugerencia: Puedes utilizar la funciones sum() y range() para hacerlo más fácil. El tercer parámetro en la función range(inicio, fin, salto) indica un salto de números, pruébalo.*"
   ]
  },
  {
   "cell_type": "code",
   "execution_count": 21,
   "metadata": {},
   "outputs": [
    {
     "name": "stdout",
     "output_type": "stream",
     "text": [
      "La suma de todos lo numero pares del 0 al 100 es 2550\n",
      "La suma de todos lo numero pares del 0 al 100 es 2550\n"
     ]
    }
   ],
   "source": [
    "# Completa el ejercicio aquí\n",
    "suma = sum(list(range(0,101,2)))\n",
    "print(f\"La suma de todos lo numero pares del 0 al 100 es {suma}\")\n",
    "\n",
    "# Segunda forma de hacerlo\n",
    "numero = 0\n",
    "suma = 0\n",
    "while(numero <= 100):\n",
    "    if(numero % 2 == 0):\n",
    "        suma += numero\n",
    "    numero += 1\n",
    "print(f\"La suma de todos lo numero pares del 0 al 100 es {suma}\")"
   ]
  },
  {
   "cell_type": "markdown",
   "metadata": {},
   "source": [
    "**4) Realiza un programa que pida al usuario cuantos números quiere introducir. Luego lee todos los números y realiza una media aritmética:**\n"
   ]
  },
  {
   "cell_type": "code",
   "execution_count": 24,
   "metadata": {},
   "outputs": [
    {
     "name": "stdout",
     "output_type": "stream",
     "text": [
      "Ingresa el total de números a introducir: 3\n",
      "Escribe un número: 1\n",
      "Escribe un número: 2\n",
      "Escribe un número: 3\n",
      "La media es 2.0\n"
     ]
    }
   ],
   "source": [
    "# Completa el ejercicio aquí\n",
    "n = int(input(\"Ingresa el total de números a introducir: \"))\n",
    "suma = 0\n",
    "for i in range(n):\n",
    "    suma += float(input(\"Escribe un número: \"))\n",
    "media = suma/n\n",
    "print(f\"La media es {media}\")"
   ]
  },
  {
   "cell_type": "markdown",
   "metadata": {},
   "source": [
    "**5) Realiza un programa que pida al usuario un número entero del 0 al 9, y que mientras el número no sea correcto se repita el proceso. Luego debe comprobar si el número se encuentra en la lista de números y notificarlo:**\n",
    "\n",
    "*Consejo: La sintaxis \"valor in lista\" permite comprobar fácilmente si un valor se encuentra en una lista (devuelve True o False)*"
   ]
  },
  {
   "cell_type": "code",
   "execution_count": 29,
   "metadata": {},
   "outputs": [
    {
     "name": "stdout",
     "output_type": "stream",
     "text": [
      "Escribe un número: 2\n",
      "El número no se encuentra en la lista.\n"
     ]
    }
   ],
   "source": [
    "# Completa el ejercicio aquí\n",
    "numeros = [1, 3, 6, 9]\n",
    "numero = -1\n",
    "while(numero < 0 or numero > 9):\n",
    "        numero = int(input(\"Escribe un número: \"))\n",
    "\n",
    "if numero in numeros:\n",
    "    print(\"El número se encuentra en la lista de números.\")\n",
    "else:\n",
    "    print(\"El número no se encuentra en la lista.\")\n",
    "        "
   ]
  },
  {
   "cell_type": "markdown",
   "metadata": {},
   "source": [
    "**6) Utilizando la función range() y la conversión a listas genera las siguientes listas dinámicamente:**\n",
    "* Todos los números del 0 al 10 [0, 1, 2, ..., 10]\n",
    "* Todos los números del -10 al 0 [-10, -9, -8, ..., 0]\n",
    "* Todos los números pares del 0 al 20 [0, 2, 4, ..., 20]\n",
    "* Todos los números impares entre -20 y 0 [-19, -17, -15, ..., -1]\n",
    "* Todos los números múltiples de 5 del 0 al 50 [0, 5, 10, ..., 50]\n",
    "\n",
    "*Pista: Utiliza el tercer parámetro de la función range(inicio, fin, salto).*"
   ]
  },
  {
   "cell_type": "code",
   "execution_count": 36,
   "metadata": {},
   "outputs": [
    {
     "name": "stdout",
     "output_type": "stream",
     "text": [
      "[0, 1, 2, 3, 4, 5, 6, 7, 8, 9, 10]\n",
      "[-10, -9, -8, -7, -6, -5, -4, -3, -2, -1, 0]\n",
      "[0, 2, 4, 6, 8, 10, 12, 14, 16, 18, 20]\n",
      "[-19, -17, -15, -13, -11, -9, -7, -5, -3, -1]\n",
      "[0, 5, 10, 15, 20, 25, 30, 35, 40, 45, 50]\n"
     ]
    }
   ],
   "source": [
    "# Completa el ejercicio\n",
    "l1 = list(range(11))\n",
    "print(l1)\n",
    "l2 = list(range(-10,1))\n",
    "print(l2)\n",
    "l3 = list(range(0,21,2))\n",
    "print(l3)\n",
    "l4 = list(range(-19,0,2))\n",
    "print(l4)\n",
    "l5 = list(range(0,51,5))\n",
    "print(l5)"
   ]
  },
  {
   "cell_type": "markdown",
   "metadata": {},
   "source": [
    "**7) Dadas dos listas, debes generar una tercera con todos los elementos que se repitan en ellas, pero no debe repetise ningún elemento en la nueva lista:**"
   ]
  },
  {
   "cell_type": "code",
   "execution_count": 8,
   "metadata": {},
   "outputs": [],
   "source": [
    "# Completa el ejercicio aquí\n",
    "l1 = [1,3,5,7,9]\n",
    "l2 = [2,3,4,5,6,7,8,,10]\n",
    "lista = []\n",
    "for n in l1:\n",
    "    if n in l2 and n:\n",
    "        "
   ]
  }
 ],
 "metadata": {
  "anaconda-cloud": {},
  "kernelspec": {
   "display_name": "Python 3 (ipykernel)",
   "language": "python",
   "name": "python3"
  },
  "language_info": {
   "codemirror_mode": {
    "name": "ipython",
    "version": 3
   },
   "file_extension": ".py",
   "mimetype": "text/x-python",
   "name": "python",
   "nbconvert_exporter": "python",
   "pygments_lexer": "ipython3",
   "version": "3.10.4"
  }
 },
 "nbformat": 4,
 "nbformat_minor": 1
}
