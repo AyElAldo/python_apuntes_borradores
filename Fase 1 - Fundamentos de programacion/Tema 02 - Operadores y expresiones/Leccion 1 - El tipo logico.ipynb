{
 "cells": [
  {
   "cell_type": "markdown",
   "metadata": {},
   "source": [
    "## Operadores Lógicos\n",
    "\n",
    "En esta sección empezamos con operadores **lógicos** o también llamados operadores **booleanos** que son fundamentales para la programación.  \n",
    "\n",
    "Llamaremos operador tipo lógico a un expresión que puede ser representada por dos valores ya se **verdadero (true)** o **falso (false)**.  \n",
    "\n",
    "\n",
    "*Ejemplo:*  \n",
    "*Yo soy un humano.* --> ***True***\n",
    "*5 + 5 = 11* --> "
   ]
  },
  {
   "cell_type": "code",
   "execution_count": null,
   "metadata": {},
   "outputs": [],
   "source": []
  }
 ],
 "metadata": {
  "kernelspec": {
   "display_name": "Python 3 (ipykernel)",
   "language": "python",
   "name": "python3"
  },
  "language_info": {
   "codemirror_mode": {
    "name": "ipython",
    "version": 3
   },
   "file_extension": ".py",
   "mimetype": "text/x-python",
   "name": "python",
   "nbconvert_exporter": "python",
   "pygments_lexer": "ipython3",
   "version": "3.10.4"
  }
 },
 "nbformat": 4,
 "nbformat_minor": 1
}
