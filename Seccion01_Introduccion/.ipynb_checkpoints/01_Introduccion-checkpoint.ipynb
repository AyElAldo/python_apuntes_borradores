{
 "cells": [
  {
   "cell_type": "markdown",
   "id": "4db569cb",
   "metadata": {},
   "source": [
    "# Programación \n",
    "## ¿Qué es la programación?\n",
    "Es el proceso para darle instrucciones a la computadora.  \n",
    "Con el fin de manipular datos de todo tipo como:\n",
    "- Numéros\n",
    "- Canciones\n",
    "- Bases de datos\n",
    "- Imágenes\n",
    "- Videos\n",
    "- Archivos\n",
    "\n",
    "![Imagen Programacion](https://www.google.com.mx/url?sa=i&url=https%3A%2F%2Fwww.mejorconweb.com%2Fes%2Fblog%2F34-otros-servicios%2F142-programacion-web-barcelona&psig=AOvVaw0REeQOhUrlo7yvUhMoj-Hg&ust=1654557761088000&source=images&cd=vfe&ved=0CAwQjRxqFwoTCIjZgJG6l_gCFQAAAAAdAAAAABAD)"
   ]
  },
  {
   "cell_type": "markdown",
   "id": "821311ac",
   "metadata": {},
   "source": [
    "# Introduccion a Python\n",
    "## *Python - Guido Van Rossum*\n",
    "\n",
    "* Lenguaje de programación mas utilizado en 2022  \n",
    "\n",
    "* **Interpretado:** Se ejecuta el código directamente sin la necesidad de ser compilado.\n",
    "\n",
    "* Alto nivel\n",
    "\n",
    "* Orientado a objetos\n",
    "\n",
    "* **Áreas:** Analisis de datos, educación, inteligencia artificial, etc.\n",
    "\n",
    "* Fácil legibilidad\n",
    "\n",
    "* **Multiplataforma:** Windows, Linux, MacOS\n",
    "\n",
    "Para la instalación de **Python**: https://www.python.org/downloads/  \n",
    "Para la documentación oficial de **Python:** https://pypi.org/  "
   ]
  }
 ],
 "metadata": {
  "kernelspec": {
   "display_name": "Python 3 (ipykernel)",
   "language": "python",
   "name": "python3"
  },
  "language_info": {
   "codemirror_mode": {
    "name": "ipython",
    "version": 3
   },
   "file_extension": ".py",
   "mimetype": "text/x-python",
   "name": "python",
   "nbconvert_exporter": "python",
   "pygments_lexer": "ipython3",
   "version": "3.10.4"
  }
 },
 "nbformat": 4,
 "nbformat_minor": 5
}
