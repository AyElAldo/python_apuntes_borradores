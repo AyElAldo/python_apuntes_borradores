{
 "cells": [
  {
   "cell_type": "markdown",
   "id": "027e4a91",
   "metadata": {},
   "source": [
    "# Programación \n",
    "## ¿Qué es la programación?\n",
    "Es el proceso para darle instrucciones a la computadora con el fin de manipular datos y/o archivos de todo tipo como:\n",
    "- Canciones\n",
    "- Bases de datos\n",
    "- Imágenes\n",
    "- Videos\n",
    "- Archivos\n",
    "\n",
    "![Imagen Programacion](https://www.mejorconweb.com/images/programacion-web-barcelona.jpg)\n",
    "\n",
    "## ¿Cómo lo hacemos?\n",
    "Esto se hace gracias a los lenguajes de programación como **Java**, **C/C++**, **Python**, entre otros.  \n",
    "![Imagen Lenguajes](https://piperlab.es/wp-content/uploads/2020/09/lenguajes-de-programacion.jpg)"
   ]
  },
  {
   "cell_type": "markdown",
   "id": "99cdb29f",
   "metadata": {},
   "source": [
    "# Introduccion a Python\n",
    "## *Python - Guido Van Rossum*\n",
    "\n",
    "* Lenguaje de programación mas utilizado en 2022  \n",
    "\n",
    "* **Interpretado:** Se ejecuta el código directamente sin la necesidad de ser compilado.\n",
    "\n",
    "* Alto nivel\n",
    "\n",
    "* Orientado a objetos\n",
    "\n",
    "* **Áreas:** Analisis de datos, educación, inteligencia artificial, etc.\n",
    "\n",
    "* Fácil legibilidad\n",
    "\n",
    "* **Multiplataforma:** Windows, Linux, MacOS\n",
    "\n",
    "![Python](https://eiposgrados.com/wp-content/uploads/2021/01/masterhacks_fin_vida_python_2.7-768x457.jpg)\n",
    "\n",
    "Para la instalación de **Python**: https://www.python.org/downloads/  \n",
    "Para la documentación oficial de **Python:** https://pypi.org/  "
   ]
  },
  {
   "cell_type": "code",
   "execution_count": null,
   "id": "3de61887",
   "metadata": {},
   "outputs": [],
   "source": []
  }
 ],
 "metadata": {
  "kernelspec": {
   "display_name": "Python 3 (ipykernel)",
   "language": "python",
   "name": "python3"
  },
  "language_info": {
   "codemirror_mode": {
    "name": "ipython",
    "version": 3
   },
   "file_extension": ".py",
   "mimetype": "text/x-python",
   "name": "python",
   "nbconvert_exporter": "python",
   "pygments_lexer": "ipython3",
   "version": "3.10.4"
  }
 },
 "nbformat": 4,
 "nbformat_minor": 5
}
