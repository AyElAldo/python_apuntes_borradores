{
 "cells": [
  {
   "cell_type": "code",
   "execution_count": 6,
   "metadata": {},
   "outputs": [
    {
     "name": "stdout",
     "output_type": "stream",
     "text": [
      "Introduce un numero: w\n",
      "Error tipo:  TypeError\n",
      "Fin de la iteracion.\n"
     ]
    }
   ],
   "source": [
    "while True:\n",
    "    try:\n",
    "        n = input(\"Introduce un numero: \")\n",
    "        print(5/n)\n",
    "    except Exception as e:\n",
    "        print(\"Error tipo: \",type(e).__name__)\n",
    "    finally:\n",
    "        print(\"Fin de la iteracion.\")\n",
    "        break"
   ]
  },
  {
   "cell_type": "code",
   "execution_count": 7,
   "metadata": {},
   "outputs": [
    {
     "name": "stdout",
     "output_type": "stream",
     "text": [
      "Introduce un numero: s\n",
      "Error tipo:  ValueError\n",
      "Fin de la iteracion.\n",
      "Introduce un numero: 0\n",
      "Error tipo:  ZeroDivisionError\n",
      "Fin de la iteracion.\n",
      "Introduce un numero: 1\n",
      "5.0\n",
      "Fin de la iteracion.\n"
     ]
    }
   ],
   "source": [
    "while True:\n",
    "    try:\n",
    "        n = float(input(\"Introduce un numero: \"))\n",
    "        print(5/n)\n",
    "    except Exception as e:\n",
    "        print(\"Error tipo: \",type(e).__name__)\n",
    "    else:\n",
    "        break\n",
    "    finally:\n",
    "        print(\"Fin de la iteracion.\")"
   ]
  },
  {
   "cell_type": "code",
   "execution_count": null,
   "metadata": {},
   "outputs": [
    {
     "name": "stdout",
     "output_type": "stream",
     "text": [
      "Introduce un numero: w\n",
      "Error tipo:  ValueError\n",
      "Fin de la iteracion.\n"
     ]
    }
   ],
   "source": [
    "while True:\n",
    "    try:\n",
    "        n = float(input(\"Introduce un numero: \"))\n",
    "        print(5/n)\n",
    "    except TypeError:\n",
    "        print(\"No se puede dividir el numero por una cadena.\")\n",
    "        print(\"Vuelve a intentarlo.\")\n",
    "    except ZeroDivisionError:\n",
    "        print(\"Escribe un numero diferente de cero. Vuelve a intentarlo\")\n",
    "    except Exception as e:\n",
    "        print(\"Error tipo: \",type(e).__name__)\n",
    "    finally:\n",
    "        print(\"Fin de la iteracion.\")"
   ]
  },
  {
   "cell_type": "code",
   "execution_count": null,
   "metadata": {},
   "outputs": [],
   "source": []
  }
 ],
 "metadata": {
  "kernelspec": {
   "display_name": "Python 3 (ipykernel)",
   "language": "python",
   "name": "python3"
  },
  "language_info": {
   "codemirror_mode": {
    "name": "ipython",
    "version": 3
   },
   "file_extension": ".py",
   "mimetype": "text/x-python",
   "name": "python",
   "nbconvert_exporter": "python",
   "pygments_lexer": "ipython3",
   "version": "3.10.4"
  }
 },
 "nbformat": 4,
 "nbformat_minor": 1
}
