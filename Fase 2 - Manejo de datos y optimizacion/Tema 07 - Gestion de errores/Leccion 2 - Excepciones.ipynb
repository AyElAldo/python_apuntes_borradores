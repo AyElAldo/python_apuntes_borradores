{
 "cells": [
  {
   "cell_type": "code",
   "execution_count": 3,
   "metadata": {},
   "outputs": [
    {
     "name": "stdout",
     "output_type": "stream",
     "text": [
      "Escribe un numero: a\n",
      "Ha ocurrido un error.\n",
      "Escribe un numero: s\n",
      "Ha ocurrido un error.\n",
      "Escribe un numero: d\n",
      "Ha ocurrido un error.\n",
      "Escribe un numero: 5\n",
      "La suma de 5 + 5.0 = 10.0\n",
      "Todo ha funcionado correctamente.\n"
     ]
    }
   ],
   "source": [
    "while True:\n",
    "    try:\n",
    "        n = 5\n",
    "        m = float(input(\"Escribe un numero: \"))\n",
    "        print(f\"La suma de {n} + {m} = {n+m}\")\n",
    "    except:\n",
    "        print(\"Ha ocurrido un error.\")\n",
    "    else:\n",
    "        print(\"Todo ha funcionado correctamente.\")\n",
    "        break"
   ]
  },
  {
   "cell_type": "code",
   "execution_count": 4,
   "metadata": {},
   "outputs": [
    {
     "name": "stdout",
     "output_type": "stream",
     "text": [
      "Escribe un numero: a\n",
      "Ha ocurrido un error.\n",
      "Fin de la iteración.\n",
      "Escribe un numero: s\n",
      "Ha ocurrido un error.\n",
      "Fin de la iteración.\n",
      "Escribe un numero: d\n",
      "Ha ocurrido un error.\n",
      "Fin de la iteración.\n",
      "Escribe un numero: f\n",
      "Ha ocurrido un error.\n",
      "Fin de la iteración.\n",
      "Escribe un numero: 6\n",
      "La suma de 5 + 6.0 = 11.0\n",
      "Todo ha funcionado correctamente.\n",
      "Fin de la iteración.\n"
     ]
    }
   ],
   "source": [
    "# Uso de Finally\n",
    "while True:\n",
    "    try:\n",
    "        n = 5\n",
    "        m = float(input(\"Escribe un numero: \"))\n",
    "        print(f\"La suma de {n} + {m} = {n+m}\")\n",
    "    except:\n",
    "        print(\"Ha ocurrido un error.\")\n",
    "    else:\n",
    "        print(\"Todo ha funcionado correctamente.\")\n",
    "        break\n",
    "    finally:\n",
    "        print(\"Fin de la iteración.\")"
   ]
  },
  {
   "cell_type": "code",
   "execution_count": null,
   "metadata": {},
   "outputs": [],
   "source": []
  }
 ],
 "metadata": {
  "kernelspec": {
   "display_name": "Python 3 (ipykernel)",
   "language": "python",
   "name": "python3"
  },
  "language_info": {
   "codemirror_mode": {
    "name": "ipython",
    "version": 3
   },
   "file_extension": ".py",
   "mimetype": "text/x-python",
   "name": "python",
   "nbconvert_exporter": "python",
   "pygments_lexer": "ipython3",
   "version": "3.10.4"
  }
 },
 "nbformat": 4,
 "nbformat_minor": 1
}
