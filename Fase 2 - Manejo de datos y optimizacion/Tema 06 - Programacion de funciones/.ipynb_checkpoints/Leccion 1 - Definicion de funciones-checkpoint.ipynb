{
 "cells": [
  {
   "cell_type": "markdown",
   "metadata": {},
   "source": [
    "## Funciones \n",
    "Son trozos de **código** que se pueden ejecutar múltiples veces.  \n",
    "\n",
    "Una característica fundamental es que puedes **recibir argumentos** (tambien llamados *parámetros*) y pueden **devolver información**.  \n",
    "\n",
    "A lo largo del curso ya hemos trabajado con algunas, como la función ***len()*** el cual recibe argumentos dentro del paréntesis ***( una cadena )*** y devuelve un entero ***( la longitud de la cadena )***."
   ]
  },
  {
   "cell_type": "code",
   "execution_count": null,
   "metadata": {},
   "outputs": [],
   "source": []
  }
 ],
 "metadata": {
  "kernelspec": {
   "display_name": "Python 3 (ipykernel)",
   "language": "python",
   "name": "python3"
  },
  "language_info": {
   "codemirror_mode": {
    "name": "ipython",
    "version": 3
   },
   "file_extension": ".py",
   "mimetype": "text/x-python",
   "name": "python",
   "nbconvert_exporter": "python",
   "pygments_lexer": "ipython3",
   "version": "3.10.4"
  }
 },
 "nbformat": 4,
 "nbformat_minor": 1
}
